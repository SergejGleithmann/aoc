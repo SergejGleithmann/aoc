{
 "cells": [
  {
   "cell_type": "code",
   "execution_count": null,
   "id": "7e254da8-451b-4663-bea0-971c29fa85c7",
   "metadata": {},
   "outputs": [],
   "source": [
    "from copy import deepcopy"
   ]
  },
  {
   "cell_type": "code",
   "execution_count": null,
   "id": "0924bf6e-6808-419a-97e7-8f9c8969ea7a",
   "metadata": {
    "editable": true,
    "slideshow": {
     "slide_type": ""
    },
    "tags": []
   },
   "outputs": [],
   "source": [
    "def parse_data(my_file) -> tuple:\n",
    "    with open(my_file) as f:\n",
    "        maze = {}\n",
    "        for y,line in enumerate(f.readlines()):\n",
    "            for x, ch in enumerate(line.strip()):\n",
    "                maze[y+x*1j] = ch\n",
    "                if ch == 'S':\n",
    "                    start = (y+x*1j)\n",
    "                if ch == 'E':\n",
    "                    end = (y+x*1j)\n",
    "        return maze,start,end"
   ]
  },
  {
   "cell_type": "code",
   "execution_count": null,
   "id": "8693eb3b-b12c-41d8-b026-2fa4b0f15974",
   "metadata": {},
   "outputs": [],
   "source": [
    "def best_path(maze:dict, current: complex, end: complex) -> dict:\n",
    "    visited = {current:0}\n",
    "    while current != end:\n",
    "        new = [n for d in [-1, 1, 1j, -1j] if maze[(n:=current+d)] != '#' and n not in visited][0]\n",
    "        visited[new]=visited[current]+1\n",
    "        current = new\n",
    "    return visited"
   ]
  },
  {
   "cell_type": "code",
   "execution_count": null,
   "id": "57f151fa-485f-4c3d-af2a-9ffb4c943cac",
   "metadata": {},
   "outputs": [],
   "source": [
    "def find_cheats(track:dict, max_d:int = 20, max_save:int = 99) -> int:\n",
    "    cheats = 0\n",
    "    for k,v in list(track.items()):\n",
    "        for k1,v1 in track.items():\n",
    "            if 0<(cur_dist:=abs((d:=k1-k).real)+abs(d.imag))<=max_d:\n",
    "                if abs(v1-v)-cur_dist>max_save:\n",
    "                    cheats += 1\n",
    "        del track[k]\n",
    "    return cheats"
   ]
  },
  {
   "cell_type": "code",
   "execution_count": null,
   "id": "3983ab32-a643-4f84-9a29-7c0f18d9455c",
   "metadata": {},
   "outputs": [],
   "source": [
    "%%time\n",
    "data = parse_data('raw.txt')\n",
    "track = best_path(*data)\n",
    "print('Part 1: ', find_cheats(deepcopy(track),2))\n",
    "print('Part 2: ', find_cheats(deepcopy(track),20))"
   ]
  }
 ],
 "metadata": {
  "kernelspec": {
   "display_name": "anaconda-ai-2024.04-py310",
   "language": "python",
   "name": "conda-env-anaconda-ai-2024.04-py310-py"
  },
  "language_info": {
   "codemirror_mode": {
    "name": "ipython",
    "version": 3
   },
   "file_extension": ".py",
   "mimetype": "text/x-python",
   "name": "python",
   "nbconvert_exporter": "python",
   "pygments_lexer": "ipython3",
   "version": "3.10.13"
  }
 },
 "nbformat": 4,
 "nbformat_minor": 5
}
